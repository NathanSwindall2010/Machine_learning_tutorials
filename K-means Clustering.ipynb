{
 "cells": [
  {
   "cell_type": "code",
   "execution_count": 8,
   "metadata": {},
   "outputs": [
    {
     "name": "stdout",
     "output_type": "stream",
     "text": [
      "{1: [26, 16], 2: [68, 42], 3: [55, 76]}\n"
     ]
    },
    {
     "data": {
      "image/png": "[encoded data removed]",
      "text/plain": [
       "<Figure size 360x360 with 1 Axes>"
      ]
     },
     "metadata": {
      "needs_background": "light"
     },
     "output_type": "display_data"
    }
   ],
   "source": [
    "### Intialization\n",
    "\n",
    "import pandas as pd\n",
    "import numpy as np\n",
    "import matplotlib.pyplot as plt\n",
    "%matplotlib inline \n",
    "\n",
    "## the matplotlib inline will actually show the matplotlib\n",
    "\n",
    "df = pd.DataFrame({\n",
    "    'x': [12,20,28,18,29,33,24,45,45,52,51,52,55,53,55,61,64,69,72],\n",
    "    'y': [39,36,30,52,54,46,55,59,63,70,66,63,58,23,14,8,19,7,24]\n",
    "})\n",
    "\n",
    "\n",
    "np.random.seed(200)\n",
    "k = 3\n",
    "#centroids[i] = [x,y]\n",
    "#very strange way of making this\n",
    "centroids = {\n",
    "    i+1: [np.random.randint(0,80), np.random.randint(0,80)]\n",
    "    for i in range(k)\n",
    "}\n",
    "print(centroids)\n",
    "\n",
    "\n",
    "fig= plt.figure(figsize=(5,5))\n",
    "plt.scatter(df['x'], df['y'], color = 'k')\n",
    "colmap = {1: 'r',2 : 'g', 3 : 'b'}\n",
    "for i in centroids.keys():\n",
    "    plt.scatter(*centroids[i], color=colmap[i])\n",
    "    \n",
    "plt.xlim(0,80)\n",
    "plt.ylim(0,80)\n",
    "plt.show()\n",
    "\n"
   ]
  },
  {
   "cell_type": "code",
   "execution_count": 9,
   "metadata": {},
   "outputs": [
    {
     "name": "stdout",
     "output_type": "stream",
     "text": [
      "    x   y  distance_from_1  distance_from_2  distance_from_3  closest color\n",
      "0  12  39        26.925824        56.080300        56.727418        1     r\n",
      "1  20  36        20.880613        48.373546        53.150729        1     r\n",
      "2  28  30        14.142136        41.761226        53.338541        1     r\n",
      "3  18  52        36.878178        50.990195        44.102154        1     r\n",
      "4  29  54        38.118237        40.804412        34.058773        3     b\n"
     ]
    },
    {
     "data": {
      "image/png": "[encoded data removed]",
      "text/plain": [
       "<Figure size 360x360 with 1 Axes>"
      ]
     },
     "metadata": {
      "needs_background": "light"
     },
     "output_type": "display_data"
    }
   ],
   "source": [
    "## Assignment Stage\n",
    "\n",
    "def assignment(df,centroids):\n",
    "    for i in centroids.keys(): # either 1,2,or 3 because of the i+1\n",
    "        #sqrt((x1-x2)^2 + (y1-y2)^2) # equation we are using\n",
    "        df['distance_from_{}'.format(i)] = (\n",
    "            np.sqrt(   # This part gives you the distance of each point to that of the specific centroid. np makes it so you can actually use array multiplication\n",
    "                (df['x'] - centroids[i][0])**2\n",
    "                + (df['y']- centroids[i][1])**2\n",
    "                \n",
    "            )\n",
    "        )\n",
    "    centroid_distance_cols = ['distance_from_{}'.format(i) for i in centroids.keys()] # gets the column headings\n",
    "    df['closest'] = df.loc[:,centroid_distance_cols].idxmin(axis=1) # gets column with minimum number\n",
    "    df['closest'] = df['closest'].map(lambda x: int(x.lstrip('distance_from_'))) # strips the string part\n",
    "    df['color'] = df['closest'].map(lambda x: colmap[x]) # puts a color for it\n",
    "    return df\n",
    "\n",
    "df = assignment(df,centroids)\n",
    "print(df.head())\n",
    "\n",
    "fig = plt.figure(figsize = (5,5))\n",
    "plt.scatter(df['x'], df['y'], color= df['color'], alpha = 0.5, edgecolor='k')\n",
    "for i in centroids.keys():\n",
    "    plt.scatter(*centroids[i], color=colmap[i])\n",
    "plt.xlim(0,80)\n",
    "plt.ylim(0,80)\n",
    "plt.show()\n",
    "\n"
   ]
  },
  {
   "cell_type": "code",
   "execution_count": 13,
   "metadata": {},
   "outputs": [
    {
     "name": "stdout",
     "output_type": "stream",
     "text": [
      "     x   y  distance_from_1  distance_from_2  distance_from_3  closest color\n",
      "0   12  39        26.925824        56.080300        56.727418        1     r\n",
      "1   20  36        20.880613        48.373546        53.150729        1     r\n",
      "2   28  30        14.142136        41.761226        53.338541        1     r\n",
      "3   18  52        36.878178        50.990195        44.102154        1     r\n",
      "5   33  46        30.805844        35.227830        37.202150        1     r\n",
      "14  55  14        29.068884        30.870698        62.000000        1     r\n"
     ]
    },
    {
     "data": {
      "image/png": "[encoded data removed]",
      "text/plain": [
       "<Figure size 360x360 with 1 Axes>"
      ]
     },
     "metadata": {
      "needs_background": "light"
     },
     "output_type": "display_data"
    }
   ],
   "source": [
    "# update Stage\n",
    "import copy\n",
    "\n",
    "old_centroids = copy.deepcopy(centroids) \n",
    "print(df[df['closest'] == 1]) # very interesting that you can do this to sort a list or filter\n",
    "def update(k):\n",
    "    for i in centroids.keys():\n",
    "        centroids[i][0] = np.mean(df[df['closest'] == i]['x'])\n",
    "        centroids[i][1] = np.mean(df[df['closest'] == i]['y'])\n",
    "    return k\n",
    "\n",
    "centroids = update(centroids)\n",
    "\n",
    "fig = plt.figure(figsize=(5,5))\n",
    "ax = plt.axes()\n",
    "plt.scatter(df['x'],df['y'], color = df['color'], alpha = 0.5, edgecolor = 'k')\n",
    "for i in centroids.keys():\n",
    "    plt.scatter(*centroids[i], color = colmap[i])\n",
    "plt.xlim(0,80)\n",
    "plt.ylim(0.80)\n",
    "\n",
    "for i in old_centroids.keys():\n",
    "    old_x = old_centroids[i][0]\n",
    "    old_y = old_centroids[i][1]\n",
    "    dx = (centroids[i][0] - old_centroids[i][0])* 0.75\n",
    "    dy = (centroids[i][1] - old_centroids[i][1])*0.75\n",
    "    ax.arrow(old_x, old_y, dx, dy, head_width = 2, head_length = 3, fc=colmap[i], ec=colmap[i])\n",
    "    \n",
    "plt.show()"
   ]
  },
  {
   "cell_type": "code",
   "execution_count": 4,
   "metadata": {},
   "outputs": [
    {
     "data": {
      "image/png": "[encoded data removed]",
      "text/plain": [
       "<Figure size 360x360 with 1 Axes>"
      ]
     },
     "metadata": {
      "needs_background": "light"
     },
     "output_type": "display_data"
    }
   ],
   "source": [
    "## repeat Assignment Stage\n",
    "\n",
    "df = assignment(df, centroids)\n",
    "\n",
    "# Plot results\n",
    "\n",
    "fig = plt.figure(figsize = (5,5))\n",
    "plt.scatter(df['x'], df['y'], color = df['color'], alpha = 0.5, edgecolor = 'k')\n",
    "\n",
    "for i in centroids.keys():\n",
    "    plt.scatter(*centroids[i], color=colmap[i])\n",
    "\n",
    "plt.xlim(0,80)\n",
    "plt.ylim(0,80)\n",
    "plt.show()"
   ]
  },
  {
   "cell_type": "code",
   "execution_count": 5,
   "metadata": {},
   "outputs": [
    {
     "data": {
      "text/plain": [
       "KMeans(algorithm='auto', copy_x=True, init='k-means++', max_iter=300,\n",
       "       n_clusters=3, n_init=10, n_jobs=None, precompute_distances='auto',\n",
       "       random_state=None, tol=0.0001, verbose=0)"
      ]
     },
     "execution_count": 5,
     "metadata": {},
     "output_type": "execute_result"
    }
   ],
   "source": [
    "# now k-means using skit\n",
    "df = pd.DataFrame({\n",
    "    'x': [12,20,28,18,29,33,24,45,45,52,51,52,55,53,55,61,64,69,72],\n",
    "    'y': [39,36,30,52,54,46,55,59,63,70,66,63,58,23,14,8,19,7,24]\n",
    "})\n",
    "\n",
    "from sklearn.cluster import KMeans\n",
    "\n",
    "kmeans = KMeans(n_clusters = 3)\n",
    "kmeans.fit(df)\n",
    "\n"
   ]
  },
  {
   "cell_type": "code",
   "execution_count": 6,
   "metadata": {},
   "outputs": [],
   "source": [
    "labels = kmeans.predict(df)\n",
    "centroids = kmeans.cluster_centers_"
   ]
  },
  {
   "cell_type": "code",
   "execution_count": 7,
   "metadata": {},
   "outputs": [
    {
     "name": "stdout",
     "output_type": "stream",
     "text": [
      "{1: 'r', 2: 'g', 3: 'b'}\n"
     ]
    },
    {
     "data": {
      "image/png": "[encoded data removed]",
      "text/plain": [
       "<Figure size 360x360 with 1 Axes>"
      ]
     },
     "metadata": {
      "needs_background": "light"
     },
     "output_type": "display_data"
    }
   ],
   "source": [
    "fig = plt.figure(figsize = (5,5))\n",
    "\n",
    "print(colmap)\n",
    "colors = map(lambda x: colmap[x+1], labels)\n",
    "colors1 = list(colors)\n",
    "\n",
    "plt.scatter(df['x'], df['y'], color = colors1, alpha=0.5, edgecolor = 'k')\n",
    "\n",
    "for idx, centroid in enumerate(centroids):\n",
    "    plt.scatter(*centroid, color = colmap[idx+1])\n",
    "plt.xlim(0,80)\n",
    "plt.ylim(0,80)\n",
    "\n",
    "plt.show()"
   ]
  },
  {
   "cell_type": "code",
   "execution_count": null,
   "metadata": {},
   "outputs": [],
   "source": []
  },
  {
   "cell_type": "code",
   "execution_count": null,
   "metadata": {},
   "outputs": [],
   "source": []
  },
  {
   "cell_type": "code",
   "execution_count": null,
   "metadata": {},
   "outputs": [],
   "source": []
  },
  {
   "cell_type": "code",
   "execution_count": null,
   "metadata": {},
   "outputs": [],
   "source": []
  },
  {
   "cell_type": "code",
   "execution_count": null,
   "metadata": {},
   "outputs": [],
   "source": []
  }
 ],
 "metadata": {
  "kernelspec": {
   "display_name": "Python 3",
   "language": "python",
   "name": "python3"
  },
  "language_info": {
   "codemirror_mode": {
    "name": "ipython",
    "version": 3
   },
   "file_extension": ".py",
   "mimetype": "text/x-python",
   "name": "python",
   "nbconvert_exporter": "python",
   "pygments_lexer": "ipython3",
   "version": "3.7.4"
  }
 },
 "nbformat": 4,
 "nbformat_minor": 2
}
